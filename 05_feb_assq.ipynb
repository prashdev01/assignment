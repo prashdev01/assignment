{
 "cells": [
  {
   "cell_type": "markdown",
   "id": "993441ed-141c-4a54-a332-bbbff3eb0c63",
   "metadata": {},
   "source": [
    "# Q1. Explain Class and Object with respect to Object-Oriented Programming. Give a suitable example."
   ]
  },
  {
   "cell_type": "markdown",
   "id": "c3df2f28-de38-46dd-8152-7c1e38d397b8",
   "metadata": {},
   "source": [
    "class is blueprint or skeleton of an real life entitty \n",
    " , object instance of an class "
   ]
  },
  {
   "cell_type": "markdown",
   "id": "61c0b02d-595f-443c-be03-360e5b247658",
   "metadata": {},
   "source": [
    "# Q2. Name the four pillars of OOPs."
   ]
  },
  {
   "cell_type": "markdown",
   "id": "7e7b4b37-61df-4aee-a020-9d43a626ee22",
   "metadata": {},
   "source": [
    "1. encapsulation\n",
    "2. inhetance\n",
    "3. polymorphism\n",
    "4. abstraction"
   ]
  },
  {
   "cell_type": "markdown",
   "id": "6b27f837-2004-46ad-95f3-0dcfc0d8d634",
   "metadata": {},
   "source": [
    "# Q3. Explain why the __init__() function is used. Give a suitable example."
   ]
  },
  {
   "cell_type": "markdown",
   "id": "99b8f809-b561-4d3e-a75b-8ae9c1bda34d",
   "metadata": {},
   "source": [
    "init function is used to take input from the user for an function argument which is inside a class"
   ]
  },
  {
   "cell_type": "code",
   "execution_count": 7,
   "id": "eea3682f-bc18-47c6-b054-0d029c2c1007",
   "metadata": {},
   "outputs": [
    {
     "data": {
      "text/plain": [
       "('prashant', 'BCA III', 21, 2023)"
      ]
     },
     "execution_count": 7,
     "metadata": {},
     "output_type": "execute_result"
    }
   ],
   "source": [
    "class students_db:\n",
    "    def __init__(self, name, age , class_ , year ):\n",
    "        self.name = name\n",
    "        self.age = age\n",
    "        self.class_ = class_\n",
    "        self.year = year\n",
    "    def return_details(self):\n",
    "        return self.name , self.class_ , self.age , self.year \n",
    "prashant = students_db('prashant', 21 , 'BCA III' , 2023)\n",
    "prashant.return_details()"
   ]
  },
  {
   "cell_type": "markdown",
   "id": "474f1ee0-ad8b-4dfb-a8de-94632c779230",
   "metadata": {},
   "source": [
    "# Q4. Why self is used in OOPs?"
   ]
  },
  {
   "cell_type": "markdown",
   "id": "de8c8de3-32ac-46f8-b288-7f581b8614d8",
   "metadata": {},
   "source": [
    "\"self\" is used in OOP to refer to the current instance of the class and provides a way to access and modify the attributes and methods of that instance."
   ]
  },
  {
   "cell_type": "markdown",
   "id": "82e02a31-fd41-4771-af77-5351762d9c1f",
   "metadata": {},
   "source": [
    "# Q5. What is inheritance? Give an example for each type of inheritance."
   ]
  },
  {
   "cell_type": "markdown",
   "id": "7f4f6393-bc1f-44df-99d8-7a91c63625e3",
   "metadata": {},
   "source": [
    "inheritance is an abality to inherit characterastics or properties of one class to another "
   ]
  },
  {
   "cell_type": "code",
   "execution_count": 10,
   "id": "f014e20d-f182-447c-9d4f-7d12b0e9e6dc",
   "metadata": {},
   "outputs": [],
   "source": [
    "# multilabale inhertance \n",
    "class test_class1:\n",
    "    def class1(self):\n",
    "        return \"this is from the first class\"\n",
    "class test_class2(test_class1):\n",
    "    def class2(self):\n",
    "        return \"this is from the second classs\"\n",
    "class test_class3(test_class2):\n",
    "    pass"
   ]
  },
  {
   "cell_type": "code",
   "execution_count": 14,
   "id": "efed54fa-d3ce-45de-a551-af7752cc9d97",
   "metadata": {},
   "outputs": [
    {
     "data": {
      "text/plain": [
       "'this is from the first class'"
      ]
     },
     "execution_count": 14,
     "metadata": {},
     "output_type": "execute_result"
    }
   ],
   "source": [
    "t3 = test_class3()\n",
    "t3.class1()\n",
    "# as we can see we can the first class function from the third class instance , this is called multilabel\n",
    "# inheritance"
   ]
  },
  {
   "cell_type": "code",
   "execution_count": 1,
   "id": "fad104ed-ef6f-489d-996f-c1aac68cd4d4",
   "metadata": {},
   "outputs": [],
   "source": [
    "# multiple inheritance:\n",
    "class class1:\n",
    "    def test_class1(self):\n",
    "        return 'this is from class one'\n",
    "class class2:\n",
    "    def test_class2(self):\n",
    "        return 'this is from class two'\n",
    "class class3(class1 , class3):\n",
    "    pass\n"
   ]
  }
 ],
 "metadata": {
  "kernelspec": {
   "display_name": "Python 3 (ipykernel)",
   "language": "python",
   "name": "python3"
  },
  "language_info": {
   "codemirror_mode": {
    "name": "ipython",
    "version": 3
   },
   "file_extension": ".py",
   "mimetype": "text/x-python",
   "name": "python",
   "nbconvert_exporter": "python",
   "pygments_lexer": "ipython3",
   "version": "3.10.8"
  }
 },
 "nbformat": 4,
 "nbformat_minor": 5
}
