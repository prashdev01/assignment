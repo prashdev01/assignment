{
 "cells": [
  {
   "cell_type": "markdown",
   "id": "2a690c3b-725d-4a5a-ac48-fa3474b4b018",
   "metadata": {},
   "source": [
    "# 1. Write a program to accept percentage from the user and display the grade according to the following criteria:"
   ]
  },
  {
   "cell_type": "code",
   "execution_count": 9,
   "id": "cb5b4921-f4ae-4c9f-8d55-c4ce4fa10df1",
   "metadata": {},
   "outputs": [
    {
     "name": "stdin",
     "output_type": "stream",
     "text": [
      "Enter percantege : 95\n"
     ]
    },
    {
     "name": "stdout",
     "output_type": "stream",
     "text": [
      "congratulations, you got A grade\n"
     ]
    }
   ],
   "source": [
    "marks = int(input(\"Enter percantege :\"))\n",
    "if marks >90 :\n",
    "    print('congratulations, you got A grade')\n",
    "elif marks > 80 and marks<=90:\n",
    "    print('you got B grade')\n",
    "elif marks >60 and marks <= 80:\n",
    "    print('you got C grade')\n",
    "else:\n",
    "    print('you got D grade')"
   ]
  },
  {
   "cell_type": "markdown",
   "id": "0196c235-63d0-4a77-b69e-ca5b1e5f6f8c",
   "metadata": {},
   "source": [
    "# 2. Write a program to accept the cost price of a bike and display the road tax to be paid according to the following criteria:\n"
   ]
  },
  {
   "cell_type": "code",
   "execution_count": 1,
   "id": "8a053535-f4e7-4980-8195-c7d93680fedf",
   "metadata": {},
   "outputs": [
    {
     "name": "stdin",
     "output_type": "stream",
     "text": [
      "Enter cost price of a bike 100000\n"
     ]
    },
    {
     "name": "stdout",
     "output_type": "stream",
     "text": [
      "your roadtax is 10 %\n"
     ]
    }
   ],
   "source": [
    "cost_price = int(input(\"Enter cost price of a bike\"))\n",
    "if cost_price > 100000:\n",
    "    print('your roadtax is 15 %')\n",
    "elif cost_price > 50000 and cost_price <= 100000:\n",
    "    print('your roadtax is 10 %')\n",
    "else:\n",
    "    cost_price<50000\n",
    "    print('your roadtax is 5 %')"
   ]
  },
  {
   "cell_type": "markdown",
   "id": "1de6072a-0722-4e4d-b5aa-5009c78a9792",
   "metadata": {},
   "source": [
    "# 3. Accept any city from the user and display monuments of that city."
   ]
  },
  {
   "cell_type": "code",
   "execution_count": 9,
   "id": "2bdcb3b3-9e18-46c2-9b30-09d7b0d87145",
   "metadata": {},
   "outputs": [
    {
     "name": "stdin",
     "output_type": "stream",
     "text": [
      "Enter your city : Delhi\n"
     ]
    },
    {
     "name": "stdout",
     "output_type": "stream",
     "text": [
      "Red fort is the famous monument in  delhi\n"
     ]
    }
   ],
   "source": [
    "city = input(\"Enter your city :\")\n",
    "city= city.lower()\n",
    "if city == 'delhi':\n",
    "    print('Red fort is the famous monument in ',city)\n",
    "elif city == 'agra' :\n",
    "     print('Taj Mahal is the famous monument in ',city)\n",
    "elif city == 'jaipur':\n",
    "     print('Jal Mahal is the famous monument in ',city)\n",
    "else:\n",
    "     print('no monument found in ',city)"
   ]
  },
  {
   "cell_type": "markdown",
   "id": "38db0fac-0cbd-4c12-9578-a1c7b83a99b6",
   "metadata": {},
   "source": [
    "# 4. Check how many times a given number can be divided by 3 before it is less than or equal to 10."
   ]
  },
  {
   "cell_type": "code",
   "execution_count": 2,
   "id": "a7ba2843-c496-458d-b615-aede222e53b2",
   "metadata": {},
   "outputs": [
    {
     "name": "stdin",
     "output_type": "stream",
     "text": [
      "Enter numeber : 50\n"
     ]
    },
    {
     "name": "stdout",
     "output_type": "stream",
     "text": [
      "2\n"
     ]
    }
   ],
   "source": [
    "num = int(input(\"Enter numeber :\"))\n",
    "count = 0 \n",
    "while num > 10:\n",
    "    num = num / 3\n",
    "    count += 1\n",
    "print(count)"
   ]
  },
  {
   "cell_type": "markdown",
   "id": "63dd34af-aa21-4a95-8340-6d54307295f8",
   "metadata": {},
   "source": [
    "# 5. Why and When to Use while Loop in Python give a detailed description with example"
   ]
  },
  {
   "cell_type": "markdown",
   "id": "7ae5c9a0-5aed-47f0-9cca-780b069127d5",
   "metadata": {},
   "source": [
    "suppose we have to take an input from user and perform action on them until the specified condition becomes false , it term of taking input from user we dont know what the input the will gave to progam , so for that purpose we can use while loop.\n",
    "while loop is executed until the condition becomes false"
   ]
  },
  {
   "cell_type": "raw",
   "id": "752a54c0-7c3e-42f9-87d4-1130bcdf5d28",
   "metadata": {},
   "source": [
    "\n",
    "\n",
    "8. Reverse a while loop to display numbers from 10 to 1\n",
    "Note:- Please create a Google Document and write your answers and upload the shareable link of the Google Document with view access during the submission of the assignment."
   ]
  },
  {
   "cell_type": "markdown",
   "id": "ac657fea-cc5c-4ffe-8e81-8a8a48de8329",
   "metadata": {},
   "source": [
    "# 6. Use nested while loop to print 3 different pattern."
   ]
  },
  {
   "cell_type": "code",
   "execution_count": 3,
   "id": "95580bdb-73aa-4d84-8ba9-029c8623407f",
   "metadata": {},
   "outputs": [
    {
     "name": "stdout",
     "output_type": "stream",
     "text": [
      "$\n",
      "$$\n",
      "$$$\n",
      "$$$$\n",
      "$$$$$\n"
     ]
    }
   ],
   "source": [
    "i = 1\n",
    "while i <= 5 :\n",
    "    j = 1\n",
    "    while j <=i:\n",
    "        print('$' , end='')\n",
    "        j +=1\n",
    "    print()\n",
    "    i +=1"
   ]
  },
  {
   "cell_type": "code",
   "execution_count": 4,
   "id": "9109ad6e-2ea4-4e2b-8bc4-043807315180",
   "metadata": {},
   "outputs": [
    {
     "name": "stdout",
     "output_type": "stream",
     "text": [
      "#####\n",
      "####\n",
      "###\n",
      "##\n",
      "#\n"
     ]
    }
   ],
   "source": [
    "i =5\n",
    "while i >= 1:\n",
    "    j = 1\n",
    "    while j <=i:\n",
    "        print(\"#\", end='')\n",
    "        j += 1\n",
    "    print()\n",
    "    i -=1"
   ]
  },
  {
   "cell_type": "code",
   "execution_count": 5,
   "id": "7dd21259-6f9a-4301-ad40-3627456e2446",
   "metadata": {},
   "outputs": [
    {
     "name": "stdout",
     "output_type": "stream",
     "text": [
      "  *\n",
      " ***\n",
      "*****\n",
      " ***\n",
      "  *\n"
     ]
    }
   ],
   "source": [
    "n = 3\n",
    "i = 1\n",
    "while i <= n:\n",
    "    j = 1\n",
    "    while j <= n-i:\n",
    "        print(\" \", end=\"\")\n",
    "        j += 1\n",
    "    j = 1\n",
    "    while j <= 2*i-1:\n",
    "        print(\"*\", end=\"\")\n",
    "        j += 1\n",
    "    print()\n",
    "    i += 1\n",
    "i = n-1\n",
    "while i >= 1:\n",
    "    j = 1\n",
    "    while j <= n-i:\n",
    "        print(\" \", end=\"\")\n",
    "        j += 1\n",
    "    j = 1\n",
    "    while j <= 2*i-1:\n",
    "        print(\"*\", end=\"\")\n",
    "        j += 1\n",
    "    print()\n",
    "    i -= 1\n"
   ]
  },
  {
   "cell_type": "markdown",
   "id": "b75d2948-f2ed-4859-a5a6-eabc72d5e8c2",
   "metadata": {},
   "source": [
    "# 7. Reverse a while loop to display numbers from 10 to 1."
   ]
  },
  {
   "cell_type": "code",
   "execution_count": 1,
   "id": "026106fd-9fdf-4c45-98c4-31179282703c",
   "metadata": {},
   "outputs": [
    {
     "name": "stdout",
     "output_type": "stream",
     "text": [
      "10\n",
      "9\n",
      "8\n",
      "7\n",
      "6\n",
      "5\n",
      "4\n",
      "3\n",
      "2\n",
      "1\n"
     ]
    }
   ],
   "source": [
    "i = 10 \n",
    "while i >=1:\n",
    "    print(i)\n",
    "    i -=1"
   ]
  },
  {
   "cell_type": "code",
   "execution_count": null,
   "id": "7543bb38-3a13-4c63-b65f-0e99a23e623c",
   "metadata": {},
   "outputs": [],
   "source": []
  }
 ],
 "metadata": {
  "kernelspec": {
   "display_name": "Python 3 (ipykernel)",
   "language": "python",
   "name": "python3"
  },
  "language_info": {
   "codemirror_mode": {
    "name": "ipython",
    "version": 3
   },
   "file_extension": ".py",
   "mimetype": "text/x-python",
   "name": "python",
   "nbconvert_exporter": "python",
   "pygments_lexer": "ipython3",
   "version": "3.10.8"
  }
 },
 "nbformat": 4,
 "nbformat_minor": 5
}
