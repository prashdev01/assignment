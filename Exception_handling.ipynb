{
 "cells": [
  {
   "attachments": {},
   "cell_type": "markdown",
   "metadata": {},
   "source": [
    "# QI. What is an Exception in python? Write the difference between Exceptions and Syntax errors.\n",
    " an excpetion is an error which will cause during the execution even if the it sytatically correct , in simple term the exception are those error which are cause during runtime , in the  other hand the syntax error are cause when the parser detected that the statents written are  incorrect .  "
   ]
  },
  {
   "attachments": {},
   "cell_type": "markdown",
   "metadata": {},
   "source": [
    "# Q2. What happens when an exception is not handled? Explain with an example.\n",
    "## if exception is not handled then program will crash"
   ]
  },
  {
   "cell_type": "code",
   "execution_count": 3,
   "metadata": {},
   "outputs": [
    {
     "ename": "ZeroDivisionError",
     "evalue": "division by zero",
     "output_type": "error",
     "traceback": [
      "\u001b[1;31m---------------------------------------------------------------------------\u001b[0m",
      "\u001b[1;31mZeroDivisionError\u001b[0m                         Traceback (most recent call last)",
      "Cell \u001b[1;32mIn[3], line 3\u001b[0m\n\u001b[0;32m      1\u001b[0m a \u001b[39m=\u001b[39m \u001b[39m2\u001b[39m \n\u001b[0;32m      2\u001b[0m b \u001b[39m=\u001b[39m \u001b[39m0\u001b[39m\n\u001b[1;32m----> 3\u001b[0m \u001b[39mprint\u001b[39m( a \u001b[39m/\u001b[39;49m b )\n\u001b[0;32m      4\u001b[0m \u001b[39m# above example is syntacticaly correct but it is not possible to divede any number with zero \u001b[39;00m\n\u001b[0;32m      5\u001b[0m \u001b[39m# in that case it will raise an exception call zeroDivisionError\u001b[39;00m\n",
      "\u001b[1;31mZeroDivisionError\u001b[0m: division by zero"
     ]
    }
   ],
   "source": [
    "a = 2 \n",
    "b = 0\n",
    "print( a / b )\n",
    "# above example is syntacticaly correct but it is not possible to divede any number with zero \n",
    "# in that case it will raise an exception call zeroDivisionError"
   ]
  },
  {
   "attachments": {},
   "cell_type": "markdown",
   "metadata": {},
   "source": [
    "# Q3. Which Python statements are used to catch and handle exceptions? Explain with an example.\n",
    "try and excepts are used to handle the expetion handiling\n"
   ]
  },
  {
   "cell_type": "code",
   "execution_count": 7,
   "metadata": {},
   "outputs": [
    {
     "name": "stdout",
     "output_type": "stream",
     "text": [
      "<class 'ZeroDivisionError'> any number cannot divisible by zero\n",
      "that how we can handle exception \n"
     ]
    }
   ],
   "source": [
    "# lets take above example but this time we try to handle the exption to so the program will not crash\n",
    "a = 2 \n",
    "b = 0\n",
    "try: \n",
    "    print(a/b)\n",
    "except Exception as e:\n",
    "    print(ZeroDivisionError , \"any number cannot divisible by zero\")\n",
    "\n",
    "\n",
    "print(\"that how we can handle exception \")\n",
    "\n",
    "# as we can see this time the program not crashesh , but the execution goes to next line"
   ]
  },
  {
   "attachments": {},
   "cell_type": "markdown",
   "metadata": {},
   "source": [
    "# Q4. Explain with an example:\n",
    "## a. try and else\n",
    "### whenever we use try and else that means if the try doesn't couse any exception only then the else block will execute\n",
    "## b. finally\n",
    "### the finally block will be executed no matter the exception occures in the try or not\n",
    "## raise\n",
    "### In Python, the raise keyword is used to raise exceptions or errors"
   ]
  },
  {
   "cell_type": "code",
   "execution_count": 13,
   "metadata": {},
   "outputs": [
    {
     "name": "stdout",
     "output_type": "stream",
     "text": [
      "<class 'ZeroDivisionError'>\n",
      "this is the end of exception block and this will defenataly print ..!\n"
     ]
    }
   ],
   "source": [
    "a = 1\n",
    "b = 0\n",
    "try:\n",
    "    print(a/b)\n",
    "except Exception as e:\n",
    "    print(ZeroDivisionError)\n",
    "\n",
    "else:\n",
    "    print('the is  the else block')\n",
    "    \n",
    "finally:\n",
    "    print(\"this is the end of exception block and this will defenataly print ..!\")\n",
    "\n",
    "    "
   ]
  },
  {
   "cell_type": "code",
   "execution_count": 15,
   "metadata": {},
   "outputs": [
    {
     "name": "stdout",
     "output_type": "stream",
     "text": [
      "You cannot divide by zero!\n"
     ]
    }
   ],
   "source": [
    "try:\n",
    "    x = int(input(\"Enter a number: \"))\n",
    "    if x == 0:\n",
    "        raise ZeroDivisionError(\"You cannot divide by zero!\")\n",
    "    else:\n",
    "        print(f\"100 / {x} = {100/x}\")\n",
    "except ZeroDivisionError as e:\n",
    "    print(e)"
   ]
  },
  {
   "attachments": {},
   "cell_type": "markdown",
   "metadata": {},
   "source": [
    "# Q5. What are Custom Exceptions in python? Why do we need Custom Exceptions? Explain with an example.\n",
    "### Custom exceptions are user-defined exceptions that are created to handle specific errors or exceptions that are not handled by Python’s built-in exceptions. Custom exceptions are derived from the base Exception class in Python.\n",
    "### costume exceptions are important beacuse in many use cases we need to valided the user input then , the costume exception play a major roll to handle those use cases"
   ]
  },
  {
   "attachments": {},
   "cell_type": "markdown",
   "metadata": {},
   "source": [
    "# Q6. Create a custom exception class. Use this class to handle an exception."
   ]
  },
  {
   "cell_type": "code",
   "execution_count": 2,
   "metadata": {},
   "outputs": [
    {
     "name": "stdout",
     "output_type": "stream",
     "text": [
      "Exception occured: invalid age\n"
     ]
    }
   ],
   "source": [
    "class InvalidInput (Exception):\n",
    "    \"not eligible to vote \"\n",
    "    pass\n",
    "\n",
    "try :\n",
    "    age = int(input('enter your age :'))\n",
    "    if age >=18:\n",
    "        print(\"your eligible for votting\")\n",
    "    else:\n",
    "        raise InvalidInput\n",
    "except InvalidInput :\n",
    "    print(\"Exception occured: invalid age\" )"
   ]
  }
 ],
 "metadata": {
  "kernelspec": {
   "display_name": "Python 3",
   "language": "python",
   "name": "python3"
  },
  "language_info": {
   "codemirror_mode": {
    "name": "ipython",
    "version": 3
   },
   "file_extension": ".py",
   "mimetype": "text/x-python",
   "name": "python",
   "nbconvert_exporter": "python",
   "pygments_lexer": "ipython3",
   "version": "3.11.0"
  },
  "orig_nbformat": 4
 },
 "nbformat": 4,
 "nbformat_minor": 2
}
