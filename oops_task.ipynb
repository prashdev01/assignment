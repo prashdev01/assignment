{
 "cells": [
  {
   "attachments": {},
   "cell_type": "markdown",
   "metadata": {},
   "source": [
    "# Q1, Create a vehicle class with an init method having instance variables as name_of_vehicle, max_speed and average_of_vehicle."
   ]
  },
  {
   "cell_type": "code",
   "execution_count": 5,
   "metadata": {},
   "outputs": [
    {
     "name": "stdout",
     "output_type": "stream",
     "text": [
      "180\n",
      "audi\n"
     ]
    }
   ],
   "source": [
    "class vehicle:\n",
    "    def __init__(self ,name_of_vehicle , max_speed, average_of_vehicle ) :\n",
    "        self.name_of_vehicle = name_of_vehicle\n",
    "        self.max_speed = max_speed\n",
    "        self.average_of_vehicle = average_of_vehicle\n",
    "    \n",
    "    \n",
    "car = vehicle(\"audi\" , 180 ,100)\n",
    "print(car.max_speed)\n",
    "print(car.name_of_vehicle)"
   ]
  },
  {
   "attachments": {},
   "cell_type": "markdown",
   "metadata": {},
   "source": [
    "# Q2. Create a child class car from the vehicle class created in Que 1, which will inherit the vehicle class.\n",
    "### Create a method named seating_capacity which takes capacity as an argument and returns the name of\n",
    "### the vehicle and its seating capacity"
   ]
  },
  {
   "cell_type": "code",
   "execution_count": 6,
   "metadata": {},
   "outputs": [],
   "source": [
    "class car(vehicle):\n",
    "    def seating_capacity(self , capacity):\n",
    "        self.capacity = capacity\n",
    "        return self.name_of_vehicle ,capacity "
   ]
  },
  {
   "attachments": {},
   "cell_type": "markdown",
   "metadata": {},
   "source": [
    "# Q3. What is multiple inheritance? Write a python code to demonstrate multiple inheritance.\n",
    "### Multiple inheritance is a feature of some object-oriented programming languages in which a class can inherit from more than one parent class. In Python, you can use multiple inheritance by specifying more than one base class in the class definition."
   ]
  },
  {
   "cell_type": "code",
   "execution_count": 7,
   "metadata": {},
   "outputs": [
    {
     "name": "stdout",
     "output_type": "stream",
     "text": [
      "This is method 1 of Base 1\n",
      "This is method 2 of Base 2\n",
      "This is method 3 of Derived\n"
     ]
    }
   ],
   "source": [
    "class Base1:\n",
    "    def method1(self):\n",
    "        print(\"This is method 1 of Base 1\")\n",
    "\n",
    "class Base2:\n",
    "    def method2(self):\n",
    "        print(\"This is method 2 of Base 2\")\n",
    "\n",
    "class Derived(Base1, Base2):\n",
    "    def method3(self):\n",
    "        print(\"This is method 3 of Derived\")\n",
    "\n",
    "d = Derived()\n",
    "d.method1()\n",
    "d.method2()\n",
    "d.method3()"
   ]
  },
  {
   "attachments": {},
   "cell_type": "markdown",
   "metadata": {},
   "source": [
    "# Q4. What are getter and setter in python? Create a class and create a getter and a setter method in this class. \n",
    "## getter is used to get the privet variable so user can access them .to use the getter function first we have to use property decorator \n",
    "## in the other hand the setter method is used to set the privet variable value through another function"
   ]
  },
  {
   "cell_type": "code",
   "execution_count": 42,
   "metadata": {},
   "outputs": [],
   "source": [
    "class test:\n",
    "    def __init__(self ,course_name , course_price):\n",
    "        self.course_name = course_name\n",
    "        self.__course_price = course_price\n",
    "    @property\n",
    "    def course_price_access(self):\n",
    "        return self.__course_price \n",
    "        \n",
    "        \n",
    "    @course_price_access.setter\n",
    "    def change_course_price(self, price):\n",
    "        if price<=3500:\n",
    "            pass\n",
    "        else:\n",
    "            self.__course_price = price\n",
    "        return self.__course_price\n",
    "            "
   ]
  },
  {
   "cell_type": "code",
   "execution_count": 43,
   "metadata": {},
   "outputs": [],
   "source": [
    "pw = test(\"Data Science Masters \" , 3500)"
   ]
  },
  {
   "cell_type": "code",
   "execution_count": 46,
   "metadata": {},
   "outputs": [
    {
     "data": {
      "text/plain": [
       "4500"
      ]
     },
     "execution_count": 46,
     "metadata": {},
     "output_type": "execute_result"
    }
   ],
   "source": [
    "#now we can access the the privet variable self.__course_price\n",
    "pw.course_price_access"
   ]
  },
  {
   "cell_type": "code",
   "execution_count": 45,
   "metadata": {},
   "outputs": [],
   "source": [
    "#now we can change the the privet variable self.__course_price as wll using setter\n",
    "pw.change_course_price = 4500"
   ]
  },
  {
   "attachments": {},
   "cell_type": "markdown",
   "metadata": {},
   "source": [
    "# Q5.What is method overriding in python? Write a python code to demonstrate method overriding.\n",
    "## Overriding is when a subclass provides its own implementation of a method that is already defined in the parent class. \n",
    "## In overriding, the methods have the same name and parameters.\n"
   ]
  },
  {
   "cell_type": "code",
   "execution_count": 47,
   "metadata": {},
   "outputs": [
    {
     "name": "stdout",
     "output_type": "stream",
     "text": [
      "The animal makes a sound\n",
      "The dog barks\n"
     ]
    }
   ],
   "source": [
    "class Animal:\n",
    "    def make_sound(self):\n",
    "        print(\"The animal makes a sound\")\n",
    "\n",
    "class Dog(Animal):\n",
    "    def make_sound(self):\n",
    "        print(\"The dog barks\")\n",
    "\n",
    "animal = Animal()\n",
    "animal.make_sound()\n",
    "\n",
    "dog = Dog()\n",
    "dog.make_sound()"
   ]
  },
  {
   "cell_type": "code",
   "execution_count": null,
   "metadata": {},
   "outputs": [],
   "source": []
  }
 ],
 "metadata": {
  "kernelspec": {
   "display_name": "Python 3",
   "language": "python",
   "name": "python3"
  },
  "language_info": {
   "codemirror_mode": {
    "name": "ipython",
    "version": 3
   },
   "file_extension": ".py",
   "mimetype": "text/x-python",
   "name": "python",
   "nbconvert_exporter": "python",
   "pygments_lexer": "ipython3",
   "version": "3.11.0"
  },
  "orig_nbformat": 4
 },
 "nbformat": 4,
 "nbformat_minor": 2
}
