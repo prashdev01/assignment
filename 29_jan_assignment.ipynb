{
 "cells": [
  {
   "cell_type": "markdown",
   "id": "855a2ef3-ba34-482f-ac04-1737792ccb8e",
   "metadata": {},
   "source": [
    "# 1. Who developed Python Programming Language? "
   ]
  },
  {
   "cell_type": "markdown",
   "id": "0ad71ac9-3ac8-436a-8728-f6a566a46548",
   "metadata": {},
   "source": [
    "Guido van Rossum developed Python Programming Language"
   ]
  },
  {
   "cell_type": "markdown",
   "id": "368ff62e-e5fa-41fc-a291-8c1b58a0955d",
   "metadata": {},
   "source": [
    "# 2. Which type of Programming does Python support?"
   ]
  },
  {
   "cell_type": "markdown",
   "id": "e38cf500-e093-40b5-91d6-633c857cb993",
   "metadata": {},
   "source": [
    "python supports various types of programming such as functional , obejct oriented and procedural"
   ]
  },
  {
   "cell_type": "markdown",
   "id": "dc2d323c-7af1-482f-8c3c-4ad24ed41954",
   "metadata": {},
   "source": [
    "# 3. Is Python case sensitive when dealing with identifiers?"
   ]
  },
  {
   "cell_type": "markdown",
   "id": "66314ce0-cd22-4554-9b47-6b17d50ca477",
   "metadata": {},
   "source": [
    "python is case sensative programing languege when dealing with identifiers"
   ]
  },
  {
   "cell_type": "markdown",
   "id": "11961624-f59b-47e8-b41f-6e6974179c82",
   "metadata": {},
   "source": [
    "# 4. What is the correct extension of the Python file?"
   ]
  },
  {
   "cell_type": "markdown",
   "id": "52938b31-b62d-4ba0-a2df-92005c8774f0",
   "metadata": {},
   "source": [
    ".py is the correct extension for python file"
   ]
  },
  {
   "cell_type": "markdown",
   "id": "917cb482-95e3-40c3-9a4f-19ce36ddeaa0",
   "metadata": {},
   "source": [
    "# 5. Is Python code compiled or interpreted?"
   ]
  },
  {
   "cell_type": "markdown",
   "id": "f8bf16b4-b497-436b-af11-1bee39100ae6",
   "metadata": {},
   "source": [
    "the python code is compiled at runtime "
   ]
  },
  {
   "cell_type": "markdown",
   "id": "0a56946e-ba6c-417d-b03f-9af2a762f85d",
   "metadata": {},
   "source": [
    "# 6. Name a few blocks of code used to define in Python language?"
   ]
  },
  {
   "cell_type": "markdown",
   "id": "34076883-f94f-4f59-8e1f-7e4df1f66519",
   "metadata": {},
   "source": [
    "functions, classes, and loops are some block of code is used to define in python language"
   ]
  },
  {
   "cell_type": "markdown",
   "id": "a96b81c3-d755-4cf5-a4d7-9dcc77a39480",
   "metadata": {},
   "source": [
    "# 7. State a character used to give single-line comments in Python?"
   ]
  },
  {
   "cell_type": "code",
   "execution_count": null,
   "id": "855685c8-83b5-41c5-a8ef-da31bee8473e",
   "metadata": {},
   "outputs": [],
   "source": [
    "# the hash symbol is used to set comments in python"
   ]
  },
  {
   "cell_type": "markdown",
   "id": "80e50478-864f-44db-a576-55de96a8daab",
   "metadata": {},
   "source": [
    "# 8. Mention functions which can help us to find the version of python that we are currently working on?"
   ]
  },
  {
   "cell_type": "markdown",
   "id": "1164205d-4300-4864-b85b-6fe1d6ac6db9",
   "metadata": {},
   "source": [
    "The functions \"sys.version\" or \"platform.python_version()\" \n",
    "can help us find the version of Python that we are currently working on."
   ]
  },
  {
   "cell_type": "markdown",
   "id": "3b941183-674a-4074-a1f2-7f05cc4a5986",
   "metadata": {},
   "source": [
    "# 9. Python supports the creation of anonymous functions at runtime, using a construct called"
   ]
  },
  {
   "cell_type": "markdown",
   "id": "9c643b8d-d678-460a-9cc4-5f8a1f8bae18",
   "metadata": {},
   "source": [
    "python supports the creation of anonymous function at runtime , using construct called lambda"
   ]
  },
  {
   "cell_type": "markdown",
   "id": "4472556f-9957-438d-afff-00a609af7746",
   "metadata": {},
   "source": [
    "# 10. What does pip stand for python?"
   ]
  },
  {
   "cell_type": "markdown",
   "id": "6bacc06b-0ba0-41de-8770-320b761a9dad",
   "metadata": {
    "tags": []
   },
   "source": [
    "pip stands for 'pip installs package'"
   ]
  },
  {
   "cell_type": "markdown",
   "id": "cd7bdb35-9a7e-4000-a77c-de30bba146e3",
   "metadata": {},
   "source": [
    "# 11. Mention a few built-in functions in python? "
   ]
  },
  {
   "cell_type": "markdown",
   "id": "63501666-22f0-48a6-918f-2690006fba73",
   "metadata": {
    "tags": []
   },
   "source": [
    "range() , len() , type() , print() , max() , min() , sum()"
   ]
  },
  {
   "cell_type": "markdown",
   "id": "2d53bbb8-1470-43ff-8b7e-370a7c52dc65",
   "metadata": {},
   "source": [
    "# 12. What is the maximum possible length of an identifier in Python?"
   ]
  },
  {
   "cell_type": "markdown",
   "id": "802980a0-ef39-444e-a2d3-781020407ab9",
   "metadata": {},
   "source": [
    "The maximum possible length of an identifier in Python is not defined, \n",
    "but it is recommended to keep it reasonably short and descriptive."
   ]
  },
  {
   "cell_type": "markdown",
   "id": "78a40cdc-cc04-4789-97be-282c19a75c41",
   "metadata": {},
   "source": [
    "# 13. What are the benefits of using Python?"
   ]
  },
  {
   "cell_type": "markdown",
   "id": "51543226-3eb5-4f5b-b332-777075e4bd1f",
   "metadata": {},
   "source": [
    "python is simple programming language which is easy to write code \n",
    "and understand the code.\n",
    "python is powerfull and varsatile programing language \n",
    "it has vast collection of libraries and  frameworks which makes development more faster and easier\n",
    "it supports multiple platforms and has large and active communaty"
   ]
  },
  {
   "cell_type": "markdown",
   "id": "ae97916d-2553-493a-96df-bc2e21f0a6e1",
   "metadata": {},
   "source": [
    "# 14. How is memory managed in Python?"
   ]
  },
  {
   "cell_type": "markdown",
   "id": "3ae650fb-aae3-49de-bc0f-c770c61f898e",
   "metadata": {},
   "source": [
    "python memory mangement is manage by interpretors memory"
   ]
  },
  {
   "cell_type": "markdown",
   "id": "5d65231c-1540-4299-b18c-774a615b68ea",
   "metadata": {},
   "source": [
    "# 15. How to install Python on Windows and set path variables?"
   ]
  },
  {
   "cell_type": "markdown",
   "id": "1189b84d-b77d-46c4-8beb-4bca8ae700c3",
   "metadata": {},
   "source": [
    "To install Python on Windows, we can download the Python installer \n",
    "from the official website and run it. \n",
    "After installation, we need to set the PATH environment variable to the Python executable \n",
    "location to run Python from any directory."
   ]
  },
  {
   "cell_type": "markdown",
   "id": "adc0ef2b-55be-424b-8b90-4bca06cef4e7",
   "metadata": {},
   "source": [
    "# 16. Is indentation required in python?"
   ]
  },
  {
   "cell_type": "markdown",
   "id": "eda0bf43-3cbe-4955-972c-824324239a2e",
   "metadata": {},
   "source": [
    "yes , indentaion is very important in python it determines the execution flow and code's\n",
    "scope."
   ]
  }
 ],
 "metadata": {
  "kernelspec": {
   "display_name": "Python 3 (ipykernel)",
   "language": "python",
   "name": "python3"
  },
  "language_info": {
   "codemirror_mode": {
    "name": "ipython",
    "version": 3
   },
   "file_extension": ".py",
   "mimetype": "text/x-python",
   "name": "python",
   "nbconvert_exporter": "python",
   "pygments_lexer": "ipython3",
   "version": "3.10.8"
  }
 },
 "nbformat": 4,
 "nbformat_minor": 5
}
