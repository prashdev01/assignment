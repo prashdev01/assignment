{
 "cells": [
  {
   "attachments": {},
   "cell_type": "markdown",
   "metadata": {},
   "source": [
    "Q1. You are writing code for a company. The requirement of the company is that you create a python function that will check whether the password entered by the user is correct or not. The function should take the password as input and return the string “Valid Password” if the entered password follows the below-given password guidelines else it should return “Invalid Password”. \n",
    "\n",
    "Note: \n",
    "1. The Password should contain at least two uppercase letters and at least two lowercase letters. \n",
    "2. The Password should contain at least a number and three special characters. \n",
    "3. The length of the password should be 10 characters long. \n"
   ]
  },
  {
   "cell_type": "code",
   "execution_count": 1,
   "metadata": {},
   "outputs": [],
   "source": [
    "# Here is a corrected version of \n",
    "def psw_checker(x):\n",
    "    def case_check():\n",
    "        count_of_upper = 0\n",
    "        for i in x:\n",
    "            if i.isupper():\n",
    "                count_of_upper += 1\n",
    "        \n",
    "        count_of_lower = 0\n",
    "        for i in x:\n",
    "            if i.islower():\n",
    "                count_of_lower +=1\n",
    "        \n",
    "        if count_of_lower>=2 and count_of_upper>=2:\n",
    "            return True\n",
    "    \n",
    "    def num_and_spe_check():\n",
    "        count_num = 0\n",
    "        for letter in x:\n",
    "            if letter.isdigit():\n",
    "                count_num += 1\n",
    "        count_sep = 0\n",
    "        for letter in x:\n",
    "            if not letter.isalnum():\n",
    "                count_sep += 1\n",
    "        if count_sep >=3 and count_num >=1:\n",
    "            return True\n",
    "\n",
    "    def len_check():\n",
    "        if len(x) >= 10 and num_and_spe_check() == True:\n",
    "            return True\n",
    "\n",
    "    if len_check() == True and case_check() == True:\n",
    "        return \"The password is valid\"\n",
    "    else:\n",
    "        return \"Invalid password\"\n",
    "\n",
    "    \n",
    "    "
   ]
  },
  {
   "attachments": {},
   "cell_type": "markdown",
   "metadata": {},
   "source": [
    "Q2. Solve the below-given questions using at least one of the following:\n",
    "1. Lambda function\n",
    "2. Filter function\n",
    "3. map function\n",
    "4. List Comprehension\n"
   ]
  },
  {
   "cell_type": "code",
   "execution_count": 2,
   "metadata": {},
   "outputs": [
    {
     "data": {
      "text/plain": [
       "True"
      ]
     },
     "execution_count": 2,
     "metadata": {},
     "output_type": "execute_result"
    }
   ],
   "source": [
    "#  Check if the string starts with a particular letter\n",
    "string = 'prashant'\n",
    "chk = lambda x : x[0]=='p'\n",
    "chk(string)"
   ]
  },
  {
   "cell_type": "code",
   "execution_count": 3,
   "metadata": {},
   "outputs": [
    {
     "data": {
      "text/plain": [
       "True"
      ]
     },
     "execution_count": 3,
     "metadata": {},
     "output_type": "execute_result"
    }
   ],
   "source": [
    "#Check if the string is numeric\n",
    "string1= \"1233434\"\n",
    "str1 = lambda x : x.isnumeric()\n",
    "str1(string1)"
   ]
  },
  {
   "cell_type": "code",
   "execution_count": 4,
   "metadata": {},
   "outputs": [
    {
     "data": {
      "text/plain": [
       "[('orange', 80), ('mango', 99), ('grapes', 1000)]"
      ]
     },
     "execution_count": 4,
     "metadata": {},
     "output_type": "execute_result"
    }
   ],
   "source": [
    "# Sort a list of tuples having fruit names and their quantity. [(\"mango\",99),(\"orange\",80), (\"grapes\", 1000)]\n",
    "lst1 = [(\"mango\",99),(\"orange\",80), (\"grapes\", 1000)]\n",
    "sorted_lst = sorted(lst1, key=lambda x: x[1])\n",
    "sorted_lst"
   ]
  },
  {
   "cell_type": "code",
   "execution_count": 5,
   "metadata": {},
   "outputs": [
    {
     "data": {
      "text/plain": [
       "[1, 4, 9, 16, 25, 36, 49, 64, 81, 100]"
      ]
     },
     "execution_count": 5,
     "metadata": {},
     "output_type": "execute_result"
    }
   ],
   "source": [
    "#  Find the squares of numbers from 1 to 10\n",
    "nums= list(range(1,11))\n",
    "list(map(lambda x :x**2 ,nums))"
   ]
  },
  {
   "cell_type": "code",
   "execution_count": 6,
   "metadata": {},
   "outputs": [
    {
     "data": {
      "text/plain": [
       "[1.0,\n",
       " 1.2599210498948732,\n",
       " 1.4422495703074083,\n",
       " 1.5874010519681994,\n",
       " 1.7099759466766968,\n",
       " 1.8171205928321397,\n",
       " 1.912931182772389,\n",
       " 2.0,\n",
       " 2.080083823051904,\n",
       " 2.154434690031884]"
      ]
     },
     "execution_count": 6,
     "metadata": {},
     "output_type": "execute_result"
    }
   ],
   "source": [
    "# Find the cube root of numbers from 1 to 10\n",
    "import math\n",
    "list(map(lambda x : math.pow(x ,1/3),nums))"
   ]
  },
  {
   "cell_type": "code",
   "execution_count": 10,
   "metadata": {},
   "outputs": [
    {
     "data": {
      "text/plain": [
       "'even number'"
      ]
     },
     "execution_count": 10,
     "metadata": {},
     "output_type": "execute_result"
    }
   ],
   "source": [
    "#  Check if a given number is even\n",
    "num = int(input(\"enter any number :\"))\n",
    "(\"even number\" if num%2==0 else \"not even\")"
   ]
  },
  {
   "cell_type": "code",
   "execution_count": 8,
   "metadata": {},
   "outputs": [
    {
     "data": {
      "text/plain": [
       "[2, 4, 6, 8, 10]"
      ]
     },
     "execution_count": 8,
     "metadata": {},
     "output_type": "execute_result"
    }
   ],
   "source": [
    "\n",
    "#  Filter odd numbers from the given list.\n",
    "lst2 = [1,2,3,4,5,6,7,8,9,10]\n",
    "list(filter(lambda x: x%2==0,lst2))"
   ]
  },
  {
   "cell_type": "code",
   "execution_count": 9,
   "metadata": {},
   "outputs": [
    {
     "name": "stdout",
     "output_type": "stream",
     "text": [
      "[-1, -2, -3, -4, -5]\n",
      "[1, 2, 3, 4, 5, 6]\n"
     ]
    }
   ],
   "source": [
    "# Sort a list of integers into positive and negative integers lists.\n",
    "lst3 = [1,2,3,4,5,6,-1,-2,-3,-4,-5,0]\n",
    "lst4 = list(filter(lambda x : x<0 , lst3))\n",
    "lst5 = list(filter(lambda x : x>0 , lst3))\n",
    "print(lst4)\n",
    "print(lst5)"
   ]
  },
  {
   "cell_type": "code",
   "execution_count": null,
   "metadata": {},
   "outputs": [],
   "source": []
  }
 ],
 "metadata": {
  "kernelspec": {
   "display_name": "Python 3",
   "language": "python",
   "name": "python3"
  },
  "language_info": {
   "codemirror_mode": {
    "name": "ipython",
    "version": 3
   },
   "file_extension": ".py",
   "mimetype": "text/x-python",
   "name": "python",
   "nbconvert_exporter": "python",
   "pygments_lexer": "ipython3",
   "version": "3.11.0"
  },
  "orig_nbformat": 4
 },
 "nbformat": 4,
 "nbformat_minor": 2
}
