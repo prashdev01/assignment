{
 "cells": [
  {
   "attachments": {},
   "cell_type": "markdown",
   "metadata": {},
   "source": [
    "# Q1. What is Abstraction in OOps? Explain with an example.\n",
    "# abstraction is a process of hiding implementation details while showing only functionality to the user."
   ]
  },
  {
   "cell_type": "code",
   "execution_count": 6,
   "metadata": {},
   "outputs": [],
   "source": [
    "import abc\n",
    "class pwskills:\n",
    "    @abc.abstractmethod\n",
    "    def student_details(self):\n",
    "        pass\n",
    "    def student_assignment(self):\n",
    "        pass\n",
    "    def student_marks(self):\n",
    "        pass\n",
    "    "
   ]
  },
  {
   "cell_type": "code",
   "execution_count": 7,
   "metadata": {},
   "outputs": [],
   "source": [
    "class student_details(pwskills):\n",
    "    def student_marks(self):\n",
    "        return \"this is the marks for an students \"\n",
    "    \n",
    "    def student_assignment(self):\n",
    "        return \"this is the assignment deatials of the students \"\n",
    "    \n",
    "    def student_details(self):\n",
    "        return \"this is the student datiails\""
   ]
  },
  {
   "cell_type": "code",
   "execution_count": 10,
   "metadata": {},
   "outputs": [],
   "source": [
    "class data_science(pwskills):\n",
    "    def student_assignment(self):\n",
    "        return \"thsis is the assignment for the data science masters\"\n",
    "\n",
    "\n",
    "ds = data_science()\n",
    "sd = student_details()\n"
   ]
  },
  {
   "cell_type": "code",
   "execution_count": 14,
   "metadata": {},
   "outputs": [
    {
     "data": {
      "text/plain": [
       "'thsis is the assignment for the data science masters'"
      ]
     },
     "execution_count": 14,
     "metadata": {},
     "output_type": "execute_result"
    }
   ],
   "source": [
    "ds.student_assignment()"
   ]
  },
  {
   "cell_type": "code",
   "execution_count": 15,
   "metadata": {},
   "outputs": [
    {
     "data": {
      "text/plain": [
       "'this is the student datiails'"
      ]
     },
     "execution_count": 15,
     "metadata": {},
     "output_type": "execute_result"
    }
   ],
   "source": [
    "sd.student_details()"
   ]
  },
  {
   "cell_type": "markdown",
   "metadata": {},
   "source": [
    "# Q2. Differentiate between Abstraction and Encapsulation. Explain with an example.\n",
    "#  encapsulation is about hiding implementation details while abstraction is about hiding unnecessary details. \n"
   ]
  },
  {
   "cell_type": "code",
   "execution_count": 34,
   "metadata": {},
   "outputs": [
    {
     "name": "stdout",
     "output_type": "stream",
     "text": [
      "transaction Succesfull\n"
     ]
    },
    {
     "data": {
      "text/plain": [
       "16000"
      ]
     },
     "execution_count": 34,
     "metadata": {},
     "output_type": "execute_result"
    }
   ],
   "source": [
    "class bank_account:\n",
    "    def __init__(self , account_number , account_balance):\n",
    "        self.__account_number = account_number\n",
    "        self.__balance = account_balance\n",
    "        \n",
    "    def deposite(self,amount):\n",
    "        self.__balance += amount\n",
    "        print(\"transaction Succesfull\")\n",
    "        \n",
    "    def withdrow(self ,amount):\n",
    "        if amount > self.__balance:\n",
    "            raise ValueError (\"Insufficiant fund\")\n",
    "            self.__balance -= amount\n",
    "    def balance_check(self):\n",
    "        if self.__account_number == 123456:\n",
    "            return self.__balance\n",
    "        \n",
    "        \n",
    "saving_account = bank_account(123456 , 1000)\n",
    "saving_account.deposite(15000) \n",
    "saving_account.balance_check()"
   ]
  },
  {
   "cell_type": "code",
   "execution_count": 37,
   "metadata": {},
   "outputs": [],
   "source": [
    "saving_account.withdrow(17000)"
   ]
  },
  {
   "cell_type": "code",
   "execution_count": 36,
   "metadata": {},
   "outputs": [
    {
     "name": "stdout",
     "output_type": "stream",
     "text": [
      "transaction Succesfull\n"
     ]
    }
   ],
   "source": [
    "saving_account.deposite(5000)"
   ]
  },
  {
   "attachments": {},
   "cell_type": "markdown",
   "metadata": {},
   "source": [
    "# Q3. What is abc module in python? Why is it used?\n",
    "# the abc module stand for abstract base classes \n",
    "# it used to abstract classes from other class by using abc.abstractmethod decorator right before defining the function in class , so we can abstract that class "
   ]
  },
  {
   "attachments": {},
   "cell_type": "markdown",
   "metadata": {},
   "source": [
    "# Q4. How can we achieve data abstraction?"
   ]
  },
  {
   "cell_type": "code",
   "execution_count": 42,
   "metadata": {},
   "outputs": [
    {
     "name": "stdout",
     "output_type": "stream",
     "text": [
      "Woof!\n",
      "Meow!\n"
     ]
    }
   ],
   "source": [
    "'''Data abstraction is achieved in Python through the use of abstract classes and interfaces. An abstract class is a class that cannot be instantiated and is meant to be subclassed by other classes. Abstract classes can contain one or more abstract methods, which are methods that have a declaration but do not have an implementation. '''\n",
    "\n",
    "\n",
    "from abc import ABC, abstractmethod\n",
    "\n",
    "class Animal(ABC):\n",
    "    @abstractmethod\n",
    "    def make_sound(self):\n",
    "        pass\n",
    "\n",
    "class Dog(Animal):\n",
    "    def make_sound(self):\n",
    "        print(\"Woof!\")\n",
    "\n",
    "class Cat(Animal):\n",
    "    def make_sound(self):\n",
    "        print(\"Meow!\")\n",
    "\n",
    "animals = [Dog(), Cat()]\n",
    "\n",
    "for animal in animals:\n",
    "    animal.make_sound()"
   ]
  },
  {
   "attachments": {},
   "cell_type": "markdown",
   "metadata": {},
   "source": [
    "# Q5. Can we create an instance of an abstract class? Explain your answer.\n",
    "No, we cannot create an instance of an abstract class in Python. An abstract class is a class that cannot be instantiated and is meant to be subclassed by other classes. Abstract classes can contain one or more abstract methods, which are methods that have a declaration but do not have an implementation.\n",
    "\n",
    "When we define an abstract class in Python, we use the @abstractmethod decorator to indicate that a method is abstract. Any subclass of the abstract class must implement all of the abstract methods defined in the abstract class."
   ]
  }
 ],
 "metadata": {
  "kernelspec": {
   "display_name": "Python 3",
   "language": "python",
   "name": "python3"
  },
  "language_info": {
   "codemirror_mode": {
    "name": "ipython",
    "version": 3
   },
   "file_extension": ".py",
   "mimetype": "text/x-python",
   "name": "python",
   "nbconvert_exporter": "python",
   "pygments_lexer": "ipython3",
   "version": "3.11.0"
  },
  "orig_nbformat": 4
 },
 "nbformat": 4,
 "nbformat_minor": 2
}
