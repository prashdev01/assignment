{
 "cells": [
  {
   "cell_type": "code",
   "execution_count": null,
   "metadata": {},
   "outputs": [],
   "source": [
    "\n",
    "# Q2. Write a python program to print Python Exception Hierarchy.\n",
    "# Q3. What errors are defined in the ArithmeticError class? Explain any two with an example.\n",
    "# Q4. Why LookupError class is used? Explain with an example KeyError and IndexError.\n",
    "# Q5. Explain ImportError. What is ModuleNotFoundError?\n",
    "# Q6. List down some best practices for exception handling in python."
   ]
  },
  {
   "attachments": {},
   "cell_type": "markdown",
   "metadata": {},
   "source": [
    "# Q1. Explain why we have to use the Exception class while creating a Custom Exception.\n",
    "# Note: Here Exception class refers to the base class for all the exceptions."
   ]
  }
 ],
 "metadata": {
  "language_info": {
   "name": "python"
  },
  "orig_nbformat": 4
 },
 "nbformat": 4,
 "nbformat_minor": 2
}
