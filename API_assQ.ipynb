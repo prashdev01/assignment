{
 "cells": [
  {
   "cell_type": "markdown",
   "id": "0767501c-9e39-4b61-a460-e199bf916f3d",
   "metadata": {},
   "source": [
    "## Q1. What is an API? Give an example, where an API is used in real life.\n",
    "API stands for Application programming interface , API is communication between two homogenuos or hetrogenous system tp perform an operation . "
   ]
  },
  {
   "cell_type": "markdown",
   "id": "c2fb209f-8782-49a3-b119-f5cc72c8cf22",
   "metadata": {},
   "source": [
    "## Q2. Give advantages and disadvantages of using API.\n",
    "### Adavantages:\n",
    "api is wonderfull for costumizing and enhancing the cloud experience , Companies of all sizes can utilize APIs for website analytics, project and team management tools, online payment systems, and for many other operational solutions.\n",
    "\n",
    "### Disadavntages:\n",
    " am api is an gateway so it can become primary target for an hacker , once the api becomes compromised all other applications and system becomes valnerable\n"
   ]
  },
  {
   "cell_type": "markdown",
   "id": "60f4ac14-6385-49ad-b55f-8bcd0c52f372",
   "metadata": {},
   "source": [
    "## Q3. What is a Web API? Differentiate between API and Web API.\n",
    "### WEB API :\n",
    "the web api is a type of api which uses HTTP (HyperText Transfer Protocol ).\n",
    "\n",
    "### API :\n",
    "which uses TCP / IO (Transfer contoll protocoll) is called api  "
   ]
  },
  {
   "cell_type": "markdown",
   "id": "8c84682f-475c-46f0-b8df-615d39fb7335",
   "metadata": {},
   "source": [
    "## Q4. Explain REST and SOAP Architecture. Mention shortcomings of SOAP.\n",
    "### REST Architecture :\n",
    "REst is stands for REpresentational State Transfer ,  \n",
    "rest api is uses http protocol for communication to system\n",
    "### SOAP architecture :\n",
    "soap uses xml for for requesting data , and responce massaging  "
   ]
  },
  {
   "cell_type": "markdown",
   "id": "22ad8908-34b4-4b4e-a329-5ec11f621b43",
   "metadata": {},
   "source": [
    "## Q5. Differentiate between REST and SOAP.\n",
    "### REST Architecture :\n",
    "REst is stands for REpresentational State Transfer ,  \n",
    "rest api is uses http protocol for communication to system .\n",
    "rest is provides more flexibility and scalability as compared to soap , and less complaxity \n",
    "### SOAP architecture :\n",
    "soap uses xml for for requesting data , and responce massaging . \n",
    "soap provides more security as compared to rest , but it's more complex than rest , "
   ]
  },
  {
   "cell_type": "code",
   "execution_count": null,
   "id": "263003c1-9690-486e-824c-a202ecbdecd6",
   "metadata": {},
   "outputs": [],
   "source": []
  }
 ],
 "metadata": {
  "kernelspec": {
   "display_name": "Python 3 (ipykernel)",
   "language": "python",
   "name": "python3"
  },
  "language_info": {
   "codemirror_mode": {
    "name": "ipython",
    "version": 3
   },
   "file_extension": ".py",
   "mimetype": "text/x-python",
   "name": "python",
   "nbconvert_exporter": "python",
   "pygments_lexer": "ipython3",
   "version": "3.10.8"
  }
 },
 "nbformat": 4,
 "nbformat_minor": 5
}
