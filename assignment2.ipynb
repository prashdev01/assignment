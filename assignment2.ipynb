{
 "cells": [
  {
   "cell_type": "markdown",
   "id": "b6ea9336-2fa4-4b1c-a99f-3fa76ededc4b",
   "metadata": {},
   "source": [
    "# Q1. Which keyword is used to create a function? Create a function to return a list of odd numbers in the\n",
    "# range of 1 to 25."
   ]
  },
  {
   "cell_type": "markdown",
   "id": "f74e43d7-5733-4fda-9563-93a45a6afb64",
   "metadata": {},
   "source": [
    "# def is the keyword which is used to create a function "
   ]
  },
  {
   "cell_type": "code",
   "execution_count": 3,
   "id": "e27f932b-836b-41e0-a1bf-cd7217df30d6",
   "metadata": {},
   "outputs": [],
   "source": [
    "# Creatibng a function to return a kist of add no. in the range 1 to 25"
   ]
  },
  {
   "cell_type": "code",
   "execution_count": 4,
   "id": "a47ce9ab-50e4-40bd-ab87-1074644a0bfd",
   "metadata": {},
   "outputs": [],
   "source": [
    "def oddf():\n",
    "    odd_num = []\n",
    "    for i in range(1, 26):\n",
    "        if i % 2 != 0:\n",
    "            odd_num.append(i)\n",
    "    return odd_num"
   ]
  },
  {
   "cell_type": "code",
   "execution_count": 5,
   "id": "21307170-13e5-4f7d-bc79-3d274cf44278",
   "metadata": {},
   "outputs": [
    {
     "data": {
      "text/plain": [
       "[1, 3, 5, 7, 9, 11, 13, 15, 17, 19, 21, 23, 25]"
      ]
     },
     "execution_count": 5,
     "metadata": {},
     "output_type": "execute_result"
    }
   ],
   "source": [
    "oddf()"
   ]
  },
  {
   "cell_type": "markdown",
   "id": "328195be-105d-4f57-947c-dcc3e7c22554",
   "metadata": {
    "tags": []
   },
   "source": [
    "# Q2. Why *args and **kwargs is used in some functions? Create a function each for *args and **kwargsto demonstrate their use."
   ]
  },
  {
   "cell_type": "markdown",
   "id": "d46e9ec1-33f9-453e-a20f-908ae44ff262",
   "metadata": {},
   "source": [
    "# *args"
   ]
  },
  {
   "cell_type": "code",
   "execution_count": 6,
   "id": "70fe0cfa-e87e-430e-8b6c-06b6db00ac79",
   "metadata": {},
   "outputs": [],
   "source": [
    "# *args used to take multiple arguments from user "
   ]
  },
  {
   "cell_type": "code",
   "execution_count": 7,
   "id": "04a4aa2a-6146-4676-a3e9-aa8595cf0f7e",
   "metadata": {},
   "outputs": [],
   "source": [
    "# USE OF *args :\n",
    "def test_1(*args):\n",
    "    return args"
   ]
  },
  {
   "cell_type": "code",
   "execution_count": 8,
   "id": "b45ab042-b563-482b-86c8-51304566b576",
   "metadata": {},
   "outputs": [
    {
     "data": {
      "text/plain": [
       "('prashant', 21, 80.4, 291j, 'a')"
      ]
     },
     "execution_count": 8,
     "metadata": {},
     "output_type": "execute_result"
    }
   ],
   "source": [
    "test_1(\"prashant\" , 21 , 80.4 , 291j ,'a')"
   ]
  },
  {
   "cell_type": "markdown",
   "id": "f7ea62f2-7e33-48bb-a185-0e12b968171d",
   "metadata": {},
   "source": [
    "# **kwargs"
   ]
  },
  {
   "cell_type": "code",
   "execution_count": 9,
   "id": "904a7da4-5eaf-471f-95a0-723276b54aa9",
   "metadata": {},
   "outputs": [],
   "source": [
    "# **kwargs is used to take arguments in dictonary foramt \n",
    "# it gives the output in dictonary format"
   ]
  },
  {
   "cell_type": "code",
   "execution_count": 10,
   "id": "69daf447-15c0-4edb-965f-71c31a831391",
   "metadata": {},
   "outputs": [],
   "source": [
    "# USE OF **kwargs :\n",
    "def test_2(**kwargs):\n",
    "    return kwargs"
   ]
  },
  {
   "cell_type": "code",
   "execution_count": 11,
   "id": "fedb37bd-a6c0-4314-9697-eed814b897ca",
   "metadata": {},
   "outputs": [
    {
     "data": {
      "text/plain": [
       "{'name': 'prashant', 'age': 21, 'percentage': 80.4, 'id_': 221j}"
      ]
     },
     "execution_count": 11,
     "metadata": {},
     "output_type": "execute_result"
    }
   ],
   "source": [
    "test_2(name = \"prashant\" , age = 21 , percentage = 80.4 , id_ = 221j)"
   ]
  },
  {
   "cell_type": "markdown",
   "id": "ea15fb51-ebcc-4a67-b788-53c778327889",
   "metadata": {},
   "source": [
    "# Q3.  What is an iterator in python? Name the method used to initialise the iterator object and the method used for iteration. Use these methods to print the first five elements of the given list [2, 4, 6, 8, 10, 12, 14,16, 18, 20]."
   ]
  },
  {
   "cell_type": "raw",
   "id": "d7c008c7-221e-4d9b-9e38-0f12a0afcf56",
   "metadata": {},
   "source": [
    "Iterator is an object which can traverse through all the values in the dataset"
   ]
  },
  {
   "cell_type": "code",
   "execution_count": 12,
   "id": "4d920e2e-1e36-4a29-96d1-632e6f9efbeb",
   "metadata": {},
   "outputs": [],
   "source": [
    "l = [2, 4, 6, 8, 10, 12, 14,16, 18, 20]\n",
    "l1 = iter(l)"
   ]
  },
  {
   "cell_type": "code",
   "execution_count": 13,
   "id": "e4cb18b8-8f0e-4041-98eb-3988b69e8687",
   "metadata": {},
   "outputs": [
    {
     "data": {
      "text/plain": [
       "2"
      ]
     },
     "execution_count": 13,
     "metadata": {},
     "output_type": "execute_result"
    }
   ],
   "source": [
    "next(l1)"
   ]
  },
  {
   "cell_type": "code",
   "execution_count": 14,
   "id": "13ae4a88-126a-400a-91c6-48d38cef6eef",
   "metadata": {},
   "outputs": [
    {
     "data": {
      "text/plain": [
       "4"
      ]
     },
     "execution_count": 14,
     "metadata": {},
     "output_type": "execute_result"
    }
   ],
   "source": [
    "next(l1)"
   ]
  },
  {
   "cell_type": "code",
   "execution_count": 15,
   "id": "ad72f482-d33a-466e-ac2b-99554a89f02f",
   "metadata": {},
   "outputs": [
    {
     "data": {
      "text/plain": [
       "6"
      ]
     },
     "execution_count": 15,
     "metadata": {},
     "output_type": "execute_result"
    }
   ],
   "source": [
    "next(l1)"
   ]
  },
  {
   "cell_type": "code",
   "execution_count": 16,
   "id": "19c12e2d-1ff8-4da9-a485-7a5a2d679711",
   "metadata": {},
   "outputs": [
    {
     "data": {
      "text/plain": [
       "8"
      ]
     },
     "execution_count": 16,
     "metadata": {},
     "output_type": "execute_result"
    }
   ],
   "source": [
    "next(l1)"
   ]
  },
  {
   "cell_type": "code",
   "execution_count": 17,
   "id": "c03a55e9-58a7-4852-b4fb-c2e9e8b84757",
   "metadata": {},
   "outputs": [
    {
     "data": {
      "text/plain": [
       "10"
      ]
     },
     "execution_count": 17,
     "metadata": {},
     "output_type": "execute_result"
    }
   ],
   "source": [
    "next(l1)"
   ]
  },
  {
   "cell_type": "markdown",
   "id": "cc0e37f3-a2c8-4c21-a3ac-01b8716b6951",
   "metadata": {},
   "source": [
    "# Q4. What is a generator function in python? Why yield keyword is used? Give an example of a generator function."
   ]
  },
  {
   "cell_type": "code",
   "execution_count": 18,
   "id": "b057f1fc-d451-4fdb-9e41-5f889cfce310",
   "metadata": {},
   "outputs": [],
   "source": [
    "# generator function is optimize the overall memory utilization . \n",
    "# whenever we are working on a big data that will cause high memory consumption that will resuce system performance \n",
    "# to avoid such kind of problem we can generator function which create an generator object .\n",
    "# in simple way whenever we use yield keayword in function that function becomes an generator function.\n",
    "\n",
    "# yield keyword does not print or return any value so we can neglecate the memory consumtion\n",
    "\n",
    "\n",
    "def test_fib(n) :\n",
    "    a,b = 0,1  \n",
    "    for i in range(n):\n",
    "        yield a\n",
    "        a,b = b ,a+b"
   ]
  },
  {
   "cell_type": "code",
   "execution_count": 19,
   "id": "ddb13141-0acd-4018-84e5-08da84a58368",
   "metadata": {},
   "outputs": [
    {
     "name": "stdout",
     "output_type": "stream",
     "text": [
      "0\n",
      "1\n",
      "1\n",
      "2\n",
      "3\n",
      "5\n",
      "8\n",
      "13\n",
      "21\n",
      "34\n"
     ]
    }
   ],
   "source": [
    "for i in test_fib(10):\n",
    "    print(i)\n"
   ]
  },
  {
   "cell_type": "markdown",
   "id": "c1980086-23cb-428f-9b44-3b0a3c9e398b",
   "metadata": {},
   "source": [
    "# Q5. Create a generator function for prime numbers less than 1000. Use the next() method to print the first 20 prime numbers."
   ]
  },
  {
   "cell_type": "code",
   "execution_count": 20,
   "id": "f8b9c34e-94c6-4318-9b17-32d87b9a860b",
   "metadata": {},
   "outputs": [],
   "source": [
    "def prime_numbers():\n",
    "    n = 2\n",
    "    while n < 1000:\n",
    "        prime_num = True\n",
    "        for i in range(2,int(n ** 0.5) +1):\n",
    "            if n % i == 0:\n",
    "                prime_num = False\n",
    "                break\n",
    "        if prime_num:\n",
    "            yield n \n",
    "        n += 1\n"
   ]
  },
  {
   "cell_type": "code",
   "execution_count": 21,
   "id": "c9809b87-3c00-48ec-abac-9d5104c5b6e2",
   "metadata": {},
   "outputs": [
    {
     "name": "stdout",
     "output_type": "stream",
     "text": [
      "2\n",
      "3\n",
      "5\n",
      "7\n",
      "11\n",
      "13\n",
      "17\n",
      "19\n",
      "23\n",
      "29\n",
      "31\n",
      "37\n",
      "41\n",
      "43\n",
      "47\n",
      "53\n",
      "59\n",
      "61\n",
      "67\n",
      "71\n"
     ]
    }
   ],
   "source": [
    "gen_fun = prime_numbers()\n",
    "for i in range(20):\n",
    "    print(next(gen_fun))"
   ]
  },
  {
   "cell_type": "markdown",
   "id": "ac69c87b-a79d-42cf-8aa5-5a465b894951",
   "metadata": {},
   "source": [
    "# Q6. Write a python program to print the first 10 Fibonacci numbers using a while loop."
   ]
  },
  {
   "cell_type": "code",
   "execution_count": 22,
   "id": "e3ced076-7a03-45c9-9083-d05037ee8e45",
   "metadata": {},
   "outputs": [
    {
     "name": "stdout",
     "output_type": "stream",
     "text": [
      "0\n",
      "1\n",
      "1\n",
      "2\n",
      "3\n",
      "5\n",
      "8\n",
      "13\n",
      "21\n",
      "34\n"
     ]
    }
   ],
   "source": [
    "num = 1 \n",
    "a,b = 0,1\n",
    "while num <= 10:\n",
    "    print(a)\n",
    "    a,b =b ,a+b\n",
    "    num = num + 1"
   ]
  },
  {
   "cell_type": "markdown",
   "id": "7ff27645-b00e-47f5-8db1-46b87565c855",
   "metadata": {},
   "source": [
    "# Q7. Write a List Comprehension to iterate through the given string: ‘pwskills’.\n",
    "\n",
    "# Expected output: ['p', 'w', 's', 'k', 'i', 'l', 'l', 's'] "
   ]
  },
  {
   "cell_type": "code",
   "execution_count": 23,
   "id": "528da08c-c993-4f64-bb27-11189ebcb5e0",
   "metadata": {},
   "outputs": [
    {
     "data": {
      "text/plain": [
       "['p', 'w', 's', 'k', 'i', 'l', 'l', 's']"
      ]
     },
     "execution_count": 23,
     "metadata": {},
     "output_type": "execute_result"
    }
   ],
   "source": [
    "l = \"pwskills\"\n",
    "l2= []\n",
    "[i for i in l]"
   ]
  },
  {
   "cell_type": "markdown",
   "id": "f0ea224b-043d-40d6-9249-1cf97c63377e",
   "metadata": {},
   "source": [
    "# Q.8 Write a python program to check whether a given number is Palindrome or not using a while loop"
   ]
  },
  {
   "cell_type": "code",
   "execution_count": 25,
   "id": "6deec4be-d1a4-4e10-b25c-71ac8a86b9cb",
   "metadata": {},
   "outputs": [
    {
     "name": "stdin",
     "output_type": "stream",
     "text": [
      "Enter your input here : 55\n"
     ]
    },
    {
     "name": "stdout",
     "output_type": "stream",
     "text": [
      "the givrn number is palindrome \n"
     ]
    }
   ],
   "source": [
    "word = input(\"Enter your input here :\")\n",
    "while True:\n",
    "    \n",
    "    if word == word[:: -1]:\n",
    "        print(\"the givrn number is palindrome \")\n",
    "        break\n",
    "    else :\n",
    "        print(\"The given number is not an palindrom \")\n",
    "        break"
   ]
  },
  {
   "cell_type": "code",
   "execution_count": 26,
   "id": "f4cfcb6d-198e-4fd4-b6cf-85c2bf768aa7",
   "metadata": {},
   "outputs": [],
   "source": [
    "# Q9. Write a code to print odd numbers from 1 to 100 using list comprehension."
   ]
  },
  {
   "cell_type": "code",
   "execution_count": 27,
   "id": "a2942771-3e0e-44cf-a62d-1e0f63688891",
   "metadata": {},
   "outputs": [
    {
     "data": {
      "text/plain": [
       "[1,\n",
       " 3,\n",
       " 5,\n",
       " 7,\n",
       " 9,\n",
       " 11,\n",
       " 13,\n",
       " 15,\n",
       " 17,\n",
       " 19,\n",
       " 21,\n",
       " 23,\n",
       " 25,\n",
       " 27,\n",
       " 29,\n",
       " 31,\n",
       " 33,\n",
       " 35,\n",
       " 37,\n",
       " 39,\n",
       " 41,\n",
       " 43,\n",
       " 45,\n",
       " 47,\n",
       " 49,\n",
       " 51,\n",
       " 53,\n",
       " 55,\n",
       " 57,\n",
       " 59,\n",
       " 61,\n",
       " 63,\n",
       " 65,\n",
       " 67,\n",
       " 69,\n",
       " 71,\n",
       " 73,\n",
       " 75,\n",
       " 77,\n",
       " 79,\n",
       " 81,\n",
       " 83,\n",
       " 85,\n",
       " 87,\n",
       " 89,\n",
       " 91,\n",
       " 93,\n",
       " 95,\n",
       " 97,\n",
       " 99]"
      ]
     },
     "execution_count": 27,
     "metadata": {},
     "output_type": "execute_result"
    }
   ],
   "source": [
    "[i for i in range(1,101) if i % 2 !=0]"
   ]
  }
 ],
 "metadata": {
  "kernelspec": {
   "display_name": "Python 3 (ipykernel)",
   "language": "python",
   "name": "python3"
  },
  "language_info": {
   "codemirror_mode": {
    "name": "ipython",
    "version": 3
   },
   "file_extension": ".py",
   "mimetype": "text/x-python",
   "name": "python",
   "nbconvert_exporter": "python",
   "pygments_lexer": "ipython3",
   "version": "3.10.8"
  }
 },
 "nbformat": 4,
 "nbformat_minor": 5
}
