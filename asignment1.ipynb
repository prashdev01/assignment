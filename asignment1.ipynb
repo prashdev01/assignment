{
 "cells": [
  {
   "cell_type": "markdown",
   "id": "3b062b82-34e9-4faa-87ab-a1bd3596460a",
   "metadata": {},
   "source": [
    "# Q1.  Explain with an example each when to use a for loop and a while loop.\n",
    "the for loop is used when we know how many times we want the iteration in advance.\n",
    "when we already knows how many times we want the tasks to execute."
   ]
  },
  {
   "cell_type": "markdown",
   "id": "f32b3ee9-378f-405e-95d5-536d4af0375d",
   "metadata": {},
   "source": [
    "# For loop"
   ]
  },
  {
   "cell_type": "markdown",
   "id": "919cf518-99cf-4b92-b72b-8a3d06f4ca09",
   "metadata": {},
   "source": [
    "suppose we have to print the numbers from 1 to 10 then we can use 'for' loop .beause at this point we know have many time the task want to be execute."
   ]
  },
  {
   "cell_type": "code",
   "execution_count": null,
   "id": "6063ecff-3802-4186-b9f4-cde549ebda84",
   "metadata": {},
   "outputs": [
    {
     "name": "stdout",
     "output_type": "stream",
     "text": [
      "1\n",
      "2\n",
      "3\n",
      "4\n",
      "5\n",
      "6\n",
      "7\n",
      "8\n",
      "9\n"
     ]
    }
   ],
   "source": [
    "#for loop \n",
    "l1 = [1,2,3,4,5,6,7,8,9]\n",
    "for i in l1:\n",
    "    print(i)"
   ]
  },
  {
   "cell_type": "markdown",
   "id": "4a3072eb-b5ce-44b2-9c93-497b974392c6",
   "metadata": {},
   "source": [
    "# While loop\n",
    "In other hand while is used when we don't know how many times the execution is needed .\n",
    "so can use 'while' loop beacuse we can stop the at a specific condition. sometimes we can use the an specific input to stop the execution , as shown in below example."
   ]
  },
  {
   "cell_type": "code",
   "execution_count": 1,
   "id": "78e1a32a-be6f-4e08-8f8b-7a23e7d9fd94",
   "metadata": {},
   "outputs": [
    {
     "name": "stdin",
     "output_type": "stream",
     "text": [
      "Enter input or type 'exit' to stop : dhd\n"
     ]
    },
    {
     "name": "stdout",
     "output_type": "stream",
     "text": [
      "yoe have entered this input : dhd\n"
     ]
    },
    {
     "name": "stdin",
     "output_type": "stream",
     "text": [
      "Enter input or type 'exit' to stop : dhd\n"
     ]
    },
    {
     "name": "stdout",
     "output_type": "stream",
     "text": [
      "yoe have entered this input : dhd\n"
     ]
    },
    {
     "name": "stdin",
     "output_type": "stream",
     "text": [
      "Enter input or type 'exit' to stop : exit\n"
     ]
    },
    {
     "name": "stdout",
     "output_type": "stream",
     "text": [
      "yoe have entered this input : exit\n"
     ]
    }
   ],
   "source": [
    "ui = ''\n",
    "while ui != 'exit':\n",
    "    ui = input(\"Enter input or type 'exit' to stop :\")\n",
    "    print(\"yoe have entered this input :\",ui)"
   ]
  },
  {
   "cell_type": "markdown",
   "id": "7f8d6ace-674f-4f73-a7da-0e8838c72513",
   "metadata": {},
   "source": [
    "# Q2.  Write a python program to print the sum and product of the first 10 natural numbers using for and while loop."
   ]
  },
  {
   "cell_type": "markdown",
   "id": "7d2b918e-51b8-4cdd-8425-6c9b04933e2e",
   "metadata": {},
   "source": [
    "# Sum and product using for loop"
   ]
  },
  {
   "cell_type": "code",
   "execution_count": null,
   "id": "ea0c16e6-2878-49cf-9108-84ebe7e6275c",
   "metadata": {},
   "outputs": [],
   "source": [
    "sum = 0\n",
    "nums = [1,2,3,4,5,6,7,8,9,10]\n",
    "for i in nums:\n",
    "    sum = sum + i\n",
    "print(\"the sum of 10 natural numbers is:\",sum)\n",
    "\n",
    "\n",
    "#product using for loop \n",
    "pro = 1\n",
    "for i in nums:\n",
    "    pro = pro * i\n",
    "print(\"the product of 10 natural numbers is :\", pro)"
   ]
  },
  {
   "cell_type": "markdown",
   "id": "19a36568-81f2-4bc9-9d2b-6bc73febb6cb",
   "metadata": {},
   "source": [
    "# Sum and product using While loop"
   ]
  },
  {
   "cell_type": "code",
   "execution_count": 28,
   "id": "f132a502-3017-4d06-ae41-2bd541c330e6",
   "metadata": {},
   "outputs": [
    {
     "name": "stdout",
     "output_type": "stream",
     "text": [
      "Sum of the first 10 natural numbers: 55\n",
      "Product of the first 10 natural numbers: 3628800\n"
     ]
    }
   ],
   "source": [
    "# Using while loop\n",
    "\n",
    "# Sum of the first 10 natural numbers\n",
    "sum = 0\n",
    "i = 1\n",
    "while i <= 10:\n",
    "    sum += i\n",
    "    i += 1\n",
    "print(\"Sum of the first 10 natural numbers:\", sum)\n",
    "\n",
    "# Product of the first 10 natural numbers\n",
    "product = 1\n",
    "i = 1\n",
    "while i <= 10:\n",
    "    product *= i\n",
    "    i += 1\n",
    "print(\"Product of the first 10 natural numbers:\", product)\n"
   ]
  },
  {
   "cell_type": "markdown",
   "id": "d6ad9099-e230-44eb-9a2b-5138cb53227c",
   "metadata": {},
   "source": [
    "# Q3. Create a python program to compute the electricity bill for a household.\n",
    "The per-unit charges in rupees are as follows: For the first 100 units, the user will be charged Rs. 4.5 per\n",
    "unit, for the next 100 units, the user will be charged Rs. 6 per unit, and for the next 100 units, the user will\n",
    "be charged Rs. 10 per unit, After 300 units and above the user will be charged Rs. 20 per unit.\n",
    "You are required to take the units of electricity consumed in a month from the user as input.\n",
    "Your program must pass this test case: when the unit of electricity consumed by the user in a month is\n",
    "310, the total electricity bill should be 2250."
   ]
  },
  {
   "cell_type": "code",
   "execution_count": 15,
   "id": "f852504d-a667-4831-bfe7-bb7a0b66fada",
   "metadata": {},
   "outputs": [],
   "source": [
    "#compute electricity bill \n",
    "# per unit charge : for 1st 100u 4.5 / u \n",
    "#2nd 6/u for 200 \n",
    "#3rd 10 /u for 300\n",
    "#4th or later 20/ u for > 300\n",
    "# 2250 = 450 + 600 + 1000 + 200"
   ]
  },
  {
   "cell_type": "code",
   "execution_count": 14,
   "id": "3fa941bb-edb8-4b4f-a097-c1d3b65e818b",
   "metadata": {},
   "outputs": [
    {
     "name": "stdin",
     "output_type": "stream",
     "text": [
      "Enter units you consumed this month : 310\n"
     ]
    },
    {
     "name": "stdout",
     "output_type": "stream",
     "text": [
      "your electricity bill is : 2250.0\n"
     ]
    }
   ],
   "source": [
    "units = int(input(\"Enter units you consumed this month :\"))\n",
    "if units<= 100:\n",
    "    bill = units * 4.5\n",
    "elif units <= 200 :\n",
    "    bill= 100 * 4.5 + (units - 100) * 6\n",
    "elif units <= 300:\n",
    "    bill = 100 * 4.5 + 100 * 6 +(units -200) * 10 \n",
    "else:\n",
    "    bill = 100 * 4.5 + 100 * 6 + 100 *10 +(units - 300) * 20 \n",
    "print(\"your electricity bill is :\" ,bill)"
   ]
  },
  {
   "cell_type": "markdown",
   "id": "752d0343-22b8-4074-87b4-b7447b453857",
   "metadata": {},
   "source": [
    "# Q.4 Create a list of numbers from 1 to 100. Use for loop and while loop to calculate the cube of each \n",
    "number and if the cube of that number is divisible by 4 or 5 then append that number in a list and print \n",
    "that list"
   ]
  },
  {
   "cell_type": "code",
   "execution_count": 31,
   "id": "e2c07b9f-87ee-4427-99d1-fab9e3fcb2ed",
   "metadata": {},
   "outputs": [],
   "source": [
    "l1 =list(range(1,100))"
   ]
  },
  {
   "cell_type": "code",
   "execution_count": 32,
   "id": "454b533d-4d1c-48ba-985f-7522f2b78b13",
   "metadata": {},
   "outputs": [
    {
     "name": "stdout",
     "output_type": "stream",
     "text": [
      "[2, 4, 5, 6, 8, 10, 12, 14, 15, 16, 18, 20, 22, 24, 25, 26, 28, 30, 32, 34, 35, 36, 38, 40, 42, 44, 45, 46, 48, 50, 52, 54, 55, 56, 58, 60, 62, 64, 65, 66, 68, 70, 72, 74, 75, 76, 78, 80, 82, 84, 85, 86, 88, 90, 92, 94, 95, 96, 98, 100]\n"
     ]
    }
   ],
   "source": [
    "l1 = []\n",
    "for i in range(1,101):\n",
    "    cube = i**3\n",
    "    if cube % 4 == 0 or cube % 5 ==0:\n",
    "        l1.append(i)\n",
    "print(l1)"
   ]
  },
  {
   "cell_type": "markdown",
   "id": "673a3a95-6271-4cfe-bd5c-0ed44ceec69e",
   "metadata": {},
   "source": [
    "# Q.5 Write a program to filter count vowels in the below-given string.\n",
    "\n",
    "string = \"I want to become a data scientist\""
   ]
  },
  {
   "cell_type": "code",
   "execution_count": 2,
   "id": "dd67586b-9b75-411c-827c-3ff3499a7698",
   "metadata": {},
   "outputs": [
    {
     "name": "stdout",
     "output_type": "stream",
     "text": [
      "the number vowels present in given string is : 12\n"
     ]
    }
   ],
   "source": [
    "str1 =  \"I want to become a data scientist\"\n",
    "# we have to convert the string into lowercase to match it with list\n",
    "str1=str1.lower()\n",
    " # first we have to define a list of vowels\n",
    "vowels = ['a','e','i','o','u']\n",
    "\n",
    "vowel_count = 0\n",
    "\n",
    "for char in str1:\n",
    "    if char in vowels:\n",
    "        vowel_count +=1\n",
    "print(\"the number vowels present in given string is :\",vowel_count)\n"
   ]
  }
 ],
 "metadata": {
  "kernelspec": {
   "display_name": "Python 3 (ipykernel)",
   "language": "python",
   "name": "python3"
  },
  "language_info": {
   "codemirror_mode": {
    "name": "ipython",
    "version": 3
   },
   "file_extension": ".py",
   "mimetype": "text/x-python",
   "name": "python",
   "nbconvert_exporter": "python",
   "pygments_lexer": "ipython3",
   "version": "3.10.8"
  }
 },
 "nbformat": 4,
 "nbformat_minor": 5
}
